{
 "cells": [
  {
   "cell_type": "code",
   "execution_count": 18,
   "id": "a279e301-99dd-4a98-8146-8868b9fa64ba",
   "metadata": {},
   "outputs": [
    {
     "name": "stdout",
     "output_type": "stream",
     "text": [
      "Confusion Matrix:\n",
      "[[8 1 0 0 0 0 0 0]\n",
      " [3 3 0 0 0 0 0 0]\n",
      " [0 4 3 0 0 0 0 0]\n",
      " [0 0 0 6 0 0 0 0]\n",
      " [0 0 0 5 3 0 0 0]\n",
      " [0 0 0 0 2 0 0 0]\n",
      " [0 0 0 0 4 0 0 0]\n",
      " [0 0 0 0 1 0 0 0]]\n"
     ]
    },
    {
     "name": "stderr",
     "output_type": "stream",
     "text": [
      "C:\\Users\\Lgelashvili\\anaconda3\\Lib\\site-packages\\sklearn\\linear_model\\_logistic.py:458: ConvergenceWarning: lbfgs failed to converge (status=1):\n",
      "STOP: TOTAL NO. of ITERATIONS REACHED LIMIT.\n",
      "\n",
      "Increase the number of iterations (max_iter) or scale the data as shown in:\n",
      "    https://scikit-learn.org/stable/modules/preprocessing.html\n",
      "Please also refer to the documentation for alternative solver options:\n",
      "    https://scikit-learn.org/stable/modules/linear_model.html#logistic-regression\n",
      "  n_iter_i = _check_optimize_result(\n"
     ]
    }
   ],
   "source": [
    "import pandas as pd\n",
    "from sklearn.model_selection import train_test_split\n",
    "from sklearn.linear_model import LogisticRegression\n",
    "from sklearn.metrics import confusion_matrix\n",
    "\n",
    "# Load the data from a CSV file\n",
    "def load_data():\n",
    "    data = pd.read_csv('spam-data.csv')\n",
    "    X = data.drop('Number of Words', axis=1)  # Features\n",
    "    y = data['Number of Spam Words']  # Target variable\n",
    "    return X, y\n",
    "\n",
    "# Split data into training and testing sets\n",
    "def split_data(X, y):\n",
    "    X_train, X_test, y_train, y_test = train_test_split(X, y, test_size=0.3, random_state=42)\n",
    "    return X_train, X_test, y_train, y_test\n",
    "\n",
    "# Train a logistic regression model\n",
    "def train_model(X_train, y_train):\n",
    "    model = LogisticRegression(max_iter=200)  # Increase max_iter if needed\n",
    "    model.fit(X_train, y_train)\n",
    "    return model\n",
    "\n",
    "# Evaluate the model using confusion matrix\n",
    "def evaluate_model(model, X_test, y_test):\n",
    "    y_pred = model.predict(X_test)\n",
    "    cm = confusion_matrix(y_test, y_pred)\n",
    "    return cm\n",
    "\n",
    "def main():\n",
    "    X, y = load_data()\n",
    "    X_train, X_test, y_train, y_test = split_data(X, y)\n",
    "    model = train_model(X_train, y_train)\n",
    "    cm = evaluate_model(model, X_test, y_test)\n",
    "    print(\"Confusion Matrix:\")\n",
    "    print(cm)\n",
    "\n",
    "if __name__ == \"__main__\":\n",
    "    main()"
   ]
  },
  {
   "cell_type": "code",
   "execution_count": null,
   "id": "47ffd692-8553-47f6-a626-e2886aa75ab3",
   "metadata": {},
   "outputs": [],
   "source": []
  }
 ],
 "metadata": {
  "kernelspec": {
   "display_name": "Python 3 (ipykernel)",
   "language": "python",
   "name": "python3"
  },
  "language_info": {
   "codemirror_mode": {
    "name": "ipython",
    "version": 3
   },
   "file_extension": ".py",
   "mimetype": "text/x-python",
   "name": "python",
   "nbconvert_exporter": "python",
   "pygments_lexer": "ipython3",
   "version": "3.11.7"
  }
 },
 "nbformat": 4,
 "nbformat_minor": 5
}

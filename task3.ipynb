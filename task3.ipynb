{
 "cells": [
  {
   "cell_type": "code",
   "execution_count": 27,
   "id": "e6840924-0588-465a-8f86-c545238b80a2",
   "metadata": {},
   "outputs": [],
   "source": [
    "import pandas as pd\n",
    "from sklearn.model_selection import train_test_split\n",
    "from sklearn.linear_model import LogisticRegression\n",
    "from sklearn.metrics import accuracy_score\n",
    "\n",
    "# Load spam data from a CSV file\n",
    "def load_data():\n",
    "    data = pd.read_csv('spam-data.csv')\n",
    "    X = data.drop('Class', axis=1)\n",
    "    y = data['Class']\n",
    "    return X, y"
   ]
  },
  {
   "cell_type": "code",
   "execution_count": 28,
   "id": "b15b6a0a-9e96-42db-b17f-4153dc8f6030",
   "metadata": {},
   "outputs": [],
   "source": [
    "# Train a logistic regression model\n",
    "def train_model(X, y):\n",
    "    X_train, X_test, y_train, y_test = train_test_split(X, y, test_size=0.2, random_state=42)\n",
    "    model = LogisticRegression()\n",
    "    model.fit(X_train, y_train)\n",
    "    # Evaluate the model\n",
    "    predictions = model.predict(X_test)\n",
    "    accuracy = accuracy_score(y_test, predictions)\n",
    "    print(f\"Model Accuracy: {accuracy:.2f}\")\n",
    "    return model"
   ]
  },
  {
   "cell_type": "code",
   "execution_count": 29,
   "id": "37ddf283-4479-4d70-b59a-47c6e9a09e9d",
   "metadata": {},
   "outputs": [
    {
     "name": "stdout",
     "output_type": "stream",
     "text": [
      "Model Accuracy: 0.86\n",
      "The first email is classified as: Not Spam\n"
     ]
    },
    {
     "name": "stderr",
     "output_type": "stream",
     "text": [
      "C:\\Users\\Lgelashvili\\anaconda3\\Lib\\site-packages\\sklearn\\base.py:439: UserWarning: X does not have valid feature names, but LogisticRegression was fitted with feature names\n",
      "  warnings.warn(\n"
     ]
    }
   ],
   "source": [
    "# Manually extracted features for the first email\n",
    "def get_first_email_features():\n",
    "        return [69, 2, 3, 1]  \n",
    "\n",
    "# Predict if the first email is spam\n",
    "def predict_email(model):\n",
    "    first_email_features = get_first_email_features()\n",
    "    first_email_prediction = model.predict([first_email_features])\n",
    "    result = 'Spam' if first_email_prediction[0] == 1 else 'Not Spam'\n",
    "    print(f'The first email is classified as: {result}')\n",
    "\n",
    "def main():\n",
    "    X, y = load_data()\n",
    "    model = train_model(X, y)\n",
    "    predict_email(model)\n",
    "\n",
    "if __name__ == \"__main__\":\n",
    "    main()"
   ]
  },
  {
   "cell_type": "code",
   "execution_count": null,
   "id": "a80bed2b-7888-4151-a9a1-3f65782a063f",
   "metadata": {},
   "outputs": [],
   "source": []
  }
 ],
 "metadata": {
  "kernelspec": {
   "display_name": "Python 3 (ipykernel)",
   "language": "python",
   "name": "python3"
  },
  "language_info": {
   "codemirror_mode": {
    "name": "ipython",
    "version": 3
   },
   "file_extension": ".py",
   "mimetype": "text/x-python",
   "name": "python",
   "nbconvert_exporter": "python",
   "pygments_lexer": "ipython3",
   "version": "3.11.7"
  }
 },
 "nbformat": 4,
 "nbformat_minor": 5
}

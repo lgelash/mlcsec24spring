{
 "cells": [
  {
   "cell_type": "code",
   "execution_count": 3,
   "id": "96579b81-6c6d-47b5-acf4-c339a95df9f5",
   "metadata": {},
   "outputs": [
    {
     "name": "stdout",
     "output_type": "stream",
     "text": [
      "   Number of Words  Number of Links  Number of Capitalized Words  \\\n",
      "0               34                0                            0   \n",
      "1               53                4                            0   \n",
      "2               61                3                            0   \n",
      "3               48                5                            0   \n",
      "4               59                7                            0   \n",
      "\n",
      "   Number of Spam Words  Class  \n",
      "0                     0      0  \n",
      "1                     0      0  \n",
      "2                     0      0  \n",
      "3                     4      1  \n",
      "4                     3      1  \n"
     ]
    }
   ],
   "source": [
    "# Import necessary libraries\n",
    "import pandas as pd\n",
    "from sklearn.model_selection import train_test_split\n",
    "from sklearn.linear_model import LogisticRegression\n",
    "from sklearn.metrics import confusion_matrix\n",
    "\n",
    "# Load the data\n",
    "data = pd.read_csv('spam-data.csv')"
   ]
  },
  {
   "cell_type": "code",
   "execution_count": null,
   "id": "801b6670-ef4f-4a87-88be-cc1248d1a2e3",
   "metadata": {},
   "outputs": [],
   "source": []
  }
 ],
 "metadata": {
  "kernelspec": {
   "display_name": "Python 3 (ipykernel)",
   "language": "python",
   "name": "python3"
  },
  "language_info": {
   "codemirror_mode": {
    "name": "ipython",
    "version": 3
   },
   "file_extension": ".py",
   "mimetype": "text/x-python",
   "name": "python",
   "nbconvert_exporter": "python",
   "pygments_lexer": "ipython3",
   "version": "3.11.7"
  }
 },
 "nbformat": 4,
 "nbformat_minor": 5
}
